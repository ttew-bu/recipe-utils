{
 "cells": [
  {
   "cell_type": "code",
   "execution_count": 8,
   "metadata": {},
   "outputs": [
    {
     "name": "stderr",
     "output_type": "stream",
     "text": [
      "/Users/ttew/recipe-be/.venv/lib/python3.9/site-packages/urllib3/__init__.py:35: NotOpenSSLWarning: urllib3 v2 only supports OpenSSL 1.1.1+, currently the 'ssl' module is compiled with 'LibreSSL 2.8.3'. See: https://github.com/urllib3/urllib3/issues/3020\n",
      "  warnings.warn(\n"
     ]
    }
   ],
   "source": [
    "## Checking out website structure\n",
    "# requirements\n",
    "# !pip install requests\n",
    "# !pip install openai\n",
    "# !pip install beautifulsoup4\n",
    "\n",
    "import requests\n",
    "from bs4 import BeautifulSoup\n",
    "import json"
   ]
  },
  {
   "cell_type": "code",
   "execution_count": 9,
   "metadata": {},
   "outputs": [],
   "source": [
    "#https://somuchfoodblog.com/red-wine-braised-beef/\n",
    "website_request = requests.get(\"https://somuchfoodblog.com/red-wine-braised-beef/\")\n",
    "\n",
    "#convert request to parseable object\n",
    "website_text = website_request.text\n",
    "soup = BeautifulSoup(website_text)\n",
    "\n",
    "# if we look carefully, we can see that the recipe is contained within the class yoast-schema-graph; let's extract this and explore the data model\n",
    "# print(website_text)"
   ]
  },
  {
   "cell_type": "code",
   "execution_count": 58,
   "metadata": {},
   "outputs": [
    {
     "data": {
      "text/plain": [
       "<script class=\"yoast-schema-graph\" type=\"application/ld+json\">{\"@context\":\"https://schema.org\",\"@graph\":[{\"@type\":\"Article\",\"@id\":\"https://somuchfoodblog.com/red-wine-braised-beef/#article\",\"isPartOf\":{\"@id\":\"https://somuchfoodblog.com/red-wine-braised-beef/\"},\"author\":{\"name\":\"Jenny\",\"@id\":\"https://somuchfoodblog.com/#/schema/person/a377debbb58942b818242c967f402b04\"},\"headline\":\"Red Wine Braised Beef\",\"datePublished\":\"2021-10-28T16:06:10+00:00\",\"dateModified\":\"2023-12-26T14:57:29+00:00\",\"wordCount\":1664,\"commentCount\":25,\"publisher\":{\"@id\":\"https://somuchfoodblog.com/#/schema/person/a377debbb58942b818242c967f402b04\"},\"image\":{\"@id\":\"https://somuchfoodblog.com/red-wine-braised-beef/#primaryimage\"},\"thumbnailUrl\":\"https://somuchfoodblog.com/wp-content/uploads/2021/10/red-wine-braised-beef5-scaled.jpg\",\"keywords\":[\"beef\",\"braising\",\"one pot meals\"],\"articleSection\":[\"Beef\",\"Braising\",\"Dinner Party\",\"Fall\",\"Gluten Free\",\"Holiday\",\"Main Dishes\",\"One Pot Meals\",\"Winter\"],\"inLanguage\":\"en-US\",\"potentialAction\":[{\"@type\":\"CommentAction\",\"name\":\"Comment\",\"target\":[\"https://somuchfoodblog.com/red-wine-braised-beef/#respond\"]}]},{\"@type\":\"WebPage\",\"@id\":\"https://somuchfoodblog.com/red-wine-braised-beef/\",\"url\":\"https://somuchfoodblog.com/red-wine-braised-beef/\",\"name\":\"Red Wine Braised Beef | So Much Food\",\"isPartOf\":{\"@id\":\"https://somuchfoodblog.com/#website\"},\"primaryImageOfPage\":{\"@id\":\"https://somuchfoodblog.com/red-wine-braised-beef/#primaryimage\"},\"image\":{\"@id\":\"https://somuchfoodblog.com/red-wine-braised-beef/#primaryimage\"},\"thumbnailUrl\":\"https://somuchfoodblog.com/wp-content/uploads/2021/10/red-wine-braised-beef5-scaled.jpg\",\"datePublished\":\"2021-10-28T16:06:10+00:00\",\"dateModified\":\"2023-12-26T14:57:29+00:00\",\"description\":\"Red wine braised beef is slow-cooked to tender perfection in a bold red wine sauce with fresh herbs for a comforting dinner.\",\"breadcrumb\":{\"@id\":\"https://somuchfoodblog.com/red-wine-braised-beef/#breadcrumb\"},\"inLanguage\":\"en-US\",\"potentialAction\":[{\"@type\":\"ReadAction\",\"target\":[\"https://somuchfoodblog.com/red-wine-braised-beef/\"]}]},{\"@type\":\"ImageObject\",\"inLanguage\":\"en-US\",\"@id\":\"https://somuchfoodblog.com/red-wine-braised-beef/#primaryimage\",\"url\":\"https://somuchfoodblog.com/wp-content/uploads/2021/10/red-wine-braised-beef5-scaled.jpg\",\"contentUrl\":\"https://somuchfoodblog.com/wp-content/uploads/2021/10/red-wine-braised-beef5-scaled.jpg\",\"width\":1365,\"height\":2048,\"caption\":\"red wine braised beef\"},{\"@type\":\"BreadcrumbList\",\"@id\":\"https://somuchfoodblog.com/red-wine-braised-beef/#breadcrumb\",\"itemListElement\":[{\"@type\":\"ListItem\",\"position\":1,\"name\":\"Home\",\"item\":\"https://somuchfoodblog.com/\"},{\"@type\":\"ListItem\",\"position\":2,\"name\":\"Red Wine Braised Beef\"}]},{\"@type\":\"WebSite\",\"@id\":\"https://somuchfoodblog.com/#website\",\"url\":\"https://somuchfoodblog.com/\",\"name\":\"So Much Food\",\"description\":\"Approachable and exciting recipes for the adventurous home cook!\",\"publisher\":{\"@id\":\"https://somuchfoodblog.com/#/schema/person/a377debbb58942b818242c967f402b04\"},\"potentialAction\":[{\"@type\":\"SearchAction\",\"target\":{\"@type\":\"EntryPoint\",\"urlTemplate\":\"https://somuchfoodblog.com/?s={search_term_string}\"},\"query-input\":\"required name=search_term_string\"}],\"inLanguage\":\"en-US\"},{\"@type\":[\"Person\",\"Organization\"],\"@id\":\"https://somuchfoodblog.com/#/schema/person/a377debbb58942b818242c967f402b04\",\"name\":\"Jenny\",\"logo\":{\"@id\":\"https://somuchfoodblog.com/#/schema/person/image/\"},\"description\":\"Jenny Goycochea-Marker is the former chef turned recipe developer, writer, and food photographer behind So Much Food. Since 2018, she's been inspiring adventurous home cooks with her recipes for elevated weeknight dinners, easy desserts, and recipes for entertaining.\",\"sameAs\":[\"https://somuchfoodblogcom.wordpress.com\"]},{\"@type\":\"Recipe\",\"name\":\"Red Wine Braised Beef\",\"author\":{\"@type\":\"Person\",\"name\":\"Jenny\"},\"description\":\"Red wine-braised beef is the ultimate comfort food--tender beef cooked low and low served over creamy mashed potatoes.\",\"datePublished\":\"2021-10-28T11:06:10+00:00\",\"image\":[\"https://somuchfoodblog.com/wp-content/uploads/2021/10/red-wine-braised-beef6-scaled.jpg\",\"https://somuchfoodblog.com/wp-content/uploads/2021/10/red-wine-braised-beef6-500x500.jpg\",\"https://somuchfoodblog.com/wp-content/uploads/2021/10/red-wine-braised-beef6-500x375.jpg\",\"https://somuchfoodblog.com/wp-content/uploads/2021/10/red-wine-braised-beef6-480x270.jpg\"],\"recipeYield\":[\"6\",\"6 servings\"],\"prepTime\":\"PT30M\",\"cookTime\":\"PT210M\",\"totalTime\":\"PT240M\",\"recipeIngredient\":[\"4 lbs beef chuck roast (cut into large (3-4\\\") pieces)\",\"2 tablespoons neutral oil\",\"1  yellow onion (chopped)\",\"2  large leeks (white and light green parts only, rinsed and sliced)\",\"4  garlic cloves (peeled and thinly sliced)\",\"3  large carrots (peeled and chopped)\",\"2 cups red wine (like merlot or cabernet sauvignon)\",\"2 cups beef stock (homemade is preferrable (see notes above))\",\"Fresh thyme sprigs\",\"2-3  dried bay leaves\",\"Kosher salt\",\"Freshly ground black pepper\",\"Fresh minced chives (for serving)\",\"Mashed potatoes (for serving)\"],\"recipeInstructions\":[{\"@type\":\"HowToStep\",\"text\":\"Preheat an oven to 350 degrees F. Pat the beef very dry using a paper towel and generously season on all sides with salt and pepper.\",\"name\":\"Preheat an oven to 350 degrees F. Pat the beef very dry using a paper towel and generously season on all sides with salt and pepper.\",\"url\":\"https://somuchfoodblog.com/red-wine-braised-beef/#wprm-recipe-4936-step-0-0\"},{\"@type\":\"HowToStep\",\"text\":\"In a large braiser or dutch oven, heat oil until over medium-high shimmering. Brown meat on all sides until deeply golden brown, 3-4 minutes per side. Transfer to a plate.\",\"name\":\"In a large braiser or dutch oven, heat oil until over medium-high shimmering. Brown meat on all sides until deeply golden brown, 3-4 minutes per side. Transfer to a plate.\",\"url\":\"https://somuchfoodblog.com/red-wine-braised-beef/#wprm-recipe-4936-step-0-1\"},{\"@type\":\"HowToStep\",\"text\":\"Reduce heat to medium-low and add onions, leeks, and garlic. Saute until onions and leeks are just tender, about 5 minutes.\",\"name\":\"Reduce heat to medium-low and add onions, leeks, and garlic. Saute until onions and leeks are just tender, about 5 minutes.\",\"url\":\"https://somuchfoodblog.com/red-wine-braised-beef/#wprm-recipe-4936-step-0-2\"},{\"@type\":\"HowToStep\",\"text\":\"Add the wine and stock and bring to a simmer. Season lightly with salt and pepper. Return the meat to the pan and nestle in the carrots, thyme sprigs, and bay leaves. The meat should sit just above the liquid line. For a good braise, you don't want it fully immersed in the liquid. Cover and transfer to the oven for 2 1/2 hours. Remove lid and cook for another 30-45 minutes, until the beef is fork-tender.\",\"name\":\"Add the wine and stock and bring to a simmer. Season lightly with salt and pepper. Return the meat to the pan and nestle in the carrots, thyme sprigs, and bay leaves. The meat should sit just above the liquid line. For a good braise, you don't want it fully immersed in the liquid. Cover and transfer to the oven for 2 1/2 hours. Remove lid and cook for another 30-45 minutes, until the beef is fork-tender.\",\"url\":\"https://somuchfoodblog.com/red-wine-braised-beef/#wprm-recipe-4936-step-0-3\"},{\"@type\":\"HowToStep\",\"text\":\"Remove from the oven and skim off the layer of fat on top and discard. Cover and rest the beef in the juices for at least 45 minutes. Gently re-warm on the stove before serving.\",\"name\":\"Remove from the oven and skim off the layer of fat on top and discard. Cover and rest the beef in the juices for at least 45 minutes. Gently re-warm on the stove before serving.\",\"url\":\"https://somuchfoodblog.com/red-wine-braised-beef/#wprm-recipe-4936-step-0-4\"}],\"aggregateRating\":{\"@type\":\"AggregateRating\",\"ratingValue\":\"4.99\",\"ratingCount\":\"174\"},\"review\":[{\"@type\":\"Review\",\"reviewRating\":{\"@type\":\"Rating\",\"ratingValue\":\"5\"},\"reviewBody\":\"Absolutely incredible dish, especially paired with your creme fraiche mashed potato recipe. It reminded my husband of a meal we had in a restaurant in Paris! This is going into our regular meal rotation.\",\"author\":{\"@type\":\"Person\",\"name\":\"Jessica\"},\"datePublished\":\"2024-03-09\"},{\"@type\":\"Review\",\"reviewRating\":{\"@type\":\"Rating\",\"ratingValue\":\"5\"},\"reviewBody\":\"This was AMAZING! My husband had to fast for 48 hours and this was what I cooked to break his fast. It did not disappoint. I served it with mashed potatoes, fresh bread, and a simple green salad. Thank you for clear instructions and an amazing meal!\",\"author\":{\"@type\":\"Person\",\"name\":\"Karen\"},\"datePublished\":\"2023-09-07\"},{\"@type\":\"Review\",\"reviewRating\":{\"@type\":\"Rating\",\"ratingValue\":\"5\"},\"reviewBody\":\"INCREDIBLE dish.. made this for Christmas Eve Eve dinner and my girlfriend and I absolutely loved it. Can't wait to try more!\",\"author\":{\"@type\":\"Person\",\"name\":\"Rob\"},\"datePublished\":\"2021-12-24\"}],\"recipeCategory\":[\"Main Dishes\"],\"keywords\":\"beef, braising, comfort food\",\"nutrition\":{\"@type\":\"NutritionInformation\",\"servingSize\":\"6 oz\",\"calories\":\"773 kcal\",\"sugarContent\":\"4 g\",\"sodiumContent\":\"219 mg\",\"fatContent\":\"27 g\",\"carbohydrateContent\":\"13 g\",\"fiberContent\":\"2 g\",\"proteinContent\":\"85 g\",\"cholesterolContent\":\"286 mg\"},\"@id\":\"https://somuchfoodblog.com/red-wine-braised-beef/#recipe\",\"isPartOf\":{\"@id\":\"https://somuchfoodblog.com/red-wine-braised-beef/#article\"},\"mainEntityOfPage\":\"https://somuchfoodblog.com/red-wine-braised-beef/\"}]}</script>"
      ]
     },
     "execution_count": 58,
     "metadata": {},
     "output_type": "execute_result"
    }
   ],
   "source": [
    "#based on several examples, there should only be one Yoast graph here; the text of this script is a valid json object\n",
    "yoast_graph = soup.find(\"script\",{\"class\": \"yoast-schema-graph\"})\n",
    "yoast_graph"
   ]
  },
  {
   "cell_type": "code",
   "execution_count": 64,
   "metadata": {},
   "outputs": [],
   "source": [
    "yoast_graph_json = json.loads(yoast_graph.text)['@graph']\n",
    "\n",
    "#as we can see there are several items within the graph\n",
    "for item in yoast_graph_json:\n",
    "    print(item['@type'])"
   ]
  },
  {
   "cell_type": "code",
   "execution_count": 69,
   "metadata": {},
   "outputs": [
    {
     "data": {
      "text/plain": [
       "['@type',\n",
       " 'name',\n",
       " 'author',\n",
       " 'description',\n",
       " 'datePublished',\n",
       " 'image',\n",
       " 'recipeYield',\n",
       " 'prepTime',\n",
       " 'cookTime',\n",
       " 'totalTime',\n",
       " 'recipeIngredient',\n",
       " 'recipeInstructions',\n",
       " 'aggregateRating',\n",
       " 'review',\n",
       " 'recipeCategory',\n",
       " 'keywords',\n",
       " 'nutrition',\n",
       " '@id',\n",
       " 'isPartOf',\n",
       " 'mainEntityOfPage']"
      ]
     },
     "execution_count": 69,
     "metadata": {},
     "output_type": "execute_result"
    }
   ],
   "source": [
    "# inside the recipe object, we get the JSON object containing the fields that we wan \n",
    "[x for x in yoast_graph_json[-1].keys()]"
   ]
  },
  {
   "cell_type": "code",
   "execution_count": 20,
   "metadata": {},
   "outputs": [],
   "source": [
    "##another example\n",
    "#https://www.food.com/recipe/gordon-ramsays-ultimate-burger-265782\n",
    "website_request_gr = requests.get(\"https://www.food.com/recipe/gordon-ramsays-ultimate-burger-265782\")\n",
    "website_text_gr = website_request_gr.text\n"
   ]
  },
  {
   "cell_type": "code",
   "execution_count": 24,
   "metadata": {},
   "outputs": [],
   "source": [
    "#here we do not have the same object structure as above. While we could do an extract on the Yoast in the first example, we have a different object here\n",
    "soup_gr = BeautifulSoup(website_text_gr)"
   ]
  },
  {
   "cell_type": "code",
   "execution_count": 34,
   "metadata": {},
   "outputs": [
    {
     "data": {
      "text/plain": [
       "998"
      ]
     },
     "execution_count": 34,
     "metadata": {},
     "output_type": "execute_result"
    }
   ],
   "source": [
    "len([x for x in soup_gr.getText().split() if x != '\\n'])"
   ]
  },
  {
   "cell_type": "code",
   "execution_count": null,
   "metadata": {},
   "outputs": [],
   "source": []
  },
  {
   "cell_type": "code",
   "execution_count": 39,
   "metadata": {},
   "outputs": [
    {
     "data": {
      "text/plain": [
       "15137"
      ]
     },
     "execution_count": 39,
     "metadata": {},
     "output_type": "execute_result"
    }
   ],
   "source": [
    "len(soup_gr.getText())"
   ]
  },
  {
   "cell_type": "code",
   "execution_count": 18,
   "metadata": {},
   "outputs": [
    {
     "name": "stdout",
     "output_type": "stream",
     "text": [
      "381797 18316 0.04797313755739307\n"
     ]
    }
   ],
   "source": [
    "print(len(website_request.text), len(soup.getText()),len(soup.getText())/len(website_request.text))"
   ]
  },
  {
   "cell_type": "code",
   "execution_count": 9,
   "metadata": {},
   "outputs": [],
   "source": [
    "#since we know that there are variable structures and individual parsers will be an intensive workload, why don't why give a LLM a shot at extracting the key content?"
   ]
  },
  {
   "cell_type": "code",
   "execution_count": 2,
   "metadata": {},
   "outputs": [],
   "source": [
    "from openai import OpenAI\n",
    "client = OpenAI()"
   ]
  },
  {
   "cell_type": "code",
   "execution_count": 62,
   "metadata": {},
   "outputs": [],
   "source": [
    "sample_site_content = \" \".join([x for x in soup_gr.getText().split()])\n"
   ]
  },
  {
   "cell_type": "code",
   "execution_count": null,
   "metadata": {},
   "outputs": [],
   "source": []
  },
  {
   "cell_type": "code",
   "execution_count": 60,
   "metadata": {},
   "outputs": [
    {
     "data": {
      "text/plain": [
       "381797"
      ]
     },
     "execution_count": 60,
     "metadata": {},
     "output_type": "execute_result"
    }
   ],
   "source": [
    "len(website_request.text)"
   ]
  },
  {
   "cell_type": "code",
   "execution_count": 45,
   "metadata": {},
   "outputs": [],
   "source": [
    "completion = client.chat.completions.create(\n",
    "  model=\"gpt-3.5-turbo\",\n",
    "  response_format={ \"type\": \"json_object\" },\n",
    "  messages=[\n",
    "    {\"role\": \"system\", \"content\": \"You are a highly specialized text extraction service that will read semi-structured content out of websites and return the specific items you're asked to retrieve\"},\n",
    "    {\"role\": \"user\", \"content\": f\"\"\"Given the text from the website under the dashed line, \n",
    "     extract the ordered list of steps for the recipe (return as a list of strings with json key 'steps'), \n",
    "     extract the ingredients for the entire recipe (return as a list of strings with json key 'ingredients'; if the recipe is broken up into several parts, this list should be a superset of all ingredients needed) \n",
    "     extract the total time to prepare the dish from prep to cook when present (return as integer of minutes with json_key \"time\")\n",
    "\n",
    "     If you are given a website and any of the objects above are not present, return a valid NoneType object\n",
    "\n",
    "     -------------- Website content starts below this line -----------\n",
    "\n",
    "     {sample_site_content}\n",
    "    \"\"\"}\n",
    "  ]\n",
    ")"
   ]
  },
  {
   "cell_type": "code",
   "execution_count": 57,
   "metadata": {},
   "outputs": [
    {
     "data": {
      "text/plain": [
       "{'steps': ['Combine all ingredients.',\n",
       "  'Form into patties.',\n",
       "  'Cook as desired.'],\n",
       " 'ingredients': ['1 lb ground sirloin',\n",
       "  '1 onion, minced',\n",
       "  '1 tablespoon ketchup',\n",
       "  '1 tablespoon sun-dried tomato, cut thinly',\n",
       "  '1/4 cup garlic, chopped',\n",
       "  '1/2 teaspoon Worcestershire sauce',\n",
       "  '1/2 teaspoon Tabasco sauce',\n",
       "  '1/2 teaspoon honey mustard'],\n",
       " 'time': 13}"
      ]
     },
     "execution_count": 57,
     "metadata": {},
     "output_type": "execute_result"
    }
   ],
   "source": [
    "json.loads(completion.choices[0].message.content)"
   ]
  },
  {
   "cell_type": "code",
   "execution_count": 64,
   "metadata": {},
   "outputs": [],
   "source": [
    "#now let's apply the same preprocessing to the yoast site\n",
    "\n",
    "yoast_site_content = \" \".join([x for x in soup.getText().split()])"
   ]
  },
  {
   "cell_type": "code",
   "execution_count": 68,
   "metadata": {},
   "outputs": [],
   "source": [
    "harder_completion = client.chat.completions.create(\n",
    "  model=\"gpt-3.5-turbo\",\n",
    "  response_format={ \"type\": \"json_object\" },\n",
    "  messages=[\n",
    "    {\"role\": \"system\", \"content\": \"You are a highly specialized text extraction service that will read semi-structured content out of websites and return the specific items you're asked to retrieve; it is possible you will be given websites with prose unrelated to the recipe, but it is imperative you ignore prose not clearly related to the target data.\"},\n",
    "    {\"role\": \"user\", \"content\": f\"\"\"Given the text from the website under the dashed line, \n",
    "     extract the recipe name (return as a string with json key \"recipe_name\")\n",
    "     extract the ordered list of steps for the recipe (return as a list of strings with json key 'recipe_steps'), \n",
    "     extract the ingredients for the entire recipe (return as a list of strings with json key 'recipe_ingredients'; if the recipe is broken up into several parts, this list should be a superset of all ingredients needed) \n",
    "     extract the total time to prepare the dish from prep to cook when present (return as integer of minutes with json_key \"recipe_total_minutes\")\n",
    "\n",
    "     If you are given a website and any of the objects above are not present, return a valid NoneType object\n",
    "\n",
    "     -------------- Website content starts below this line -----------\n",
    "\n",
    "     {yoast_site_content}\n",
    "    \"\"\"}\n",
    "  ]\n",
    ")"
   ]
  },
  {
   "cell_type": "code",
   "execution_count": 69,
   "metadata": {},
   "outputs": [
    {
     "data": {
      "text/plain": [
       "{'recipe_name': 'Red Wine Braised Beef',\n",
       " 'recipe_steps': ['Cube your beef. You want the pieces to be at least 3-4 inch pieces. Too small and the beef will fall apart into the sauce.',\n",
       "  'Season everything. Pat your beef really dry (helps with browning). These are thick pieces of beef so season all sides really well with salt and pepper.',\n",
       "  'Sear the beef. This is a crucial step! Sear the beef really well on all sides until deeply golden brown.',\n",
       "  'Cook your veggies. After your beef is nice and browned, remove it from the pan and add in your onions, leeks, and garlic.',\n",
       "  'Add your wine and stock. Once the veggies are softened, add the wine and beef stock and return the beef to the pan. Nestle the carrots in around the beef with the thyme sprigs and bay leaves.',\n",
       "  'Bring everything to a simmer, cover, and transfer to the oven.',\n",
       "  'Braise for about 3 hours, until the beef is fork-tender.',\n",
       "  'Remove from the oven and skim the layer of fat off the top. Cover and let the beef rest in the juices for at least 45 minutes.',\n",
       "  'Gently re-warm on the stove and serve.'],\n",
       " 'recipe_ingredients': ['4 lbs beef chuck roast cut into large (3-4\") pieces',\n",
       "  '2 tablespoons neutral oil',\n",
       "  '1 yellow onion chopped',\n",
       "  '2 large leeks white and light green parts only, rinsed and sliced',\n",
       "  '4 garlic cloves peeled and thinly sliced',\n",
       "  '3 large carrots peeled and chopped',\n",
       "  '2 cups red wine like merlot or cabernet sauvignon',\n",
       "  '2 cups beef stock homemade is preferable',\n",
       "  'Fresh thyme sprigs',\n",
       "  '2-3 dried bay leaves',\n",
       "  'Kosher salt',\n",
       "  'Freshly ground black pepper',\n",
       "  'Fresh minced chives for serving',\n",
       "  'Mashed potatoes for serving'],\n",
       " 'recipe_total_minutes': 210}"
      ]
     },
     "execution_count": 69,
     "metadata": {},
     "output_type": "execute_result"
    }
   ],
   "source": [
    "json.loads(harder_completion.choices[0].message.content)"
   ]
  }
 ],
 "metadata": {
  "kernelspec": {
   "display_name": ".venv",
   "language": "python",
   "name": "python3"
  },
  "language_info": {
   "codemirror_mode": {
    "name": "ipython",
    "version": 3
   },
   "file_extension": ".py",
   "mimetype": "text/x-python",
   "name": "python",
   "nbconvert_exporter": "python",
   "pygments_lexer": "ipython3",
   "version": "3.9.6"
  }
 },
 "nbformat": 4,
 "nbformat_minor": 2
}
